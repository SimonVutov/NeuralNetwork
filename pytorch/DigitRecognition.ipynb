{
 "cells": [
  {
   "cell_type": "code",
   "execution_count": 358,
   "metadata": {},
   "outputs": [],
   "source": [
    "import torch\n",
    "import torch.nn.functional as F\n",
    "import matplotlib.pyplot as plt # for making figures\n",
    "%matplotlib inline"
   ]
  },
  {
   "cell_type": "code",
   "execution_count": 472,
   "metadata": {},
   "outputs": [
    {
     "name": "stdout",
     "output_type": "stream",
     "text": [
      "Read data, Number of images in the dataset:  50559\n"
     ]
    },
    {
     "data": {
      "text/plain": [
       "((10000, 784), (10000, 10), (1000, 784), (1000, 10))"
      ]
     },
     "execution_count": 472,
     "metadata": {},
     "output_type": "execute_result"
    }
   ],
   "source": [
    "import csv\n",
    "import numpy as np\n",
    "\n",
    "def read_csv_into_2d_list(file_name):\n",
    "    data_2d_list = []\n",
    "    with open(file_name, newline='') as f:\n",
    "        csvreader = csv.reader(f)\n",
    "        for row in csvreader:\n",
    "            data_2d_list.append(row)\n",
    "    return data_2d_list\n",
    "\n",
    "mnist_data = read_csv_into_2d_list(\"mnist_train.csv\")\n",
    "print(\"Read data, Number of images in the dataset: \", len(mnist_data))\n",
    "\n",
    "trainAmount = min(len(mnist_data), 10000)\n",
    "\n",
    "X = np.zeros((trainAmount, 784), dtype=np.float32)\n",
    "Y = np.zeros((trainAmount, 10), dtype=np.float32)\n",
    "\n",
    "X_test = np.zeros((1000, 784), dtype=np.float32)\n",
    "Y_test = np.zeros((1000, 10), dtype=np.float32)\n",
    "\n",
    "for i in range(0, trainAmount + 1000):\n",
    "    if i < trainAmount:\n",
    "        for j in range(0, 784):\n",
    "            X[i][j] = float(mnist_data[i][j+1]) / 255.0\n",
    "        Y[i][int(float(mnist_data[i][0]))] = 1.0\n",
    "    else:\n",
    "        for j in range(0, 784):\n",
    "            X_test[i - trainAmount][j] = float(mnist_data[i][j+1]) / 255.0\n",
    "        Y_test[i - trainAmount][int(float(mnist_data[i][0]))] = 1.0\n",
    "\n",
    "\n",
    "X.shape, Y.shape, X_test.shape, Y_test.shape\n"
   ]
  },
  {
   "cell_type": "code",
   "execution_count": 374,
   "metadata": {},
   "outputs": [
    {
     "data": {
      "text/plain": [
       "((10000, 784), (10000, 10))"
      ]
     },
     "execution_count": 374,
     "metadata": {},
     "output_type": "execute_result"
    }
   ],
   "source": [
    "X.shape, Y.shape"
   ]
  },
  {
   "cell_type": "code",
   "execution_count": 375,
   "metadata": {},
   "outputs": [],
   "source": [
    "import torch\n",
    "import torch.nn.functional as F\n",
    "import numpy as np\n",
    "\n",
    "W1 = np.random.rand(trainAmount, 784) - 0.5\n",
    "b1 = np.random.rand(trainAmount, 1) - 0.5\n",
    "W2 = np.random.rand(10, trainAmount) - 0.5\n",
    "b2 = np.random.rand(trainAmount, 1) - 0.5\n",
    "\n",
    "def softmax(Z):\n",
    "    A = np.exp(Z) / sum(np.exp(Z))\n",
    "    return A\n",
    "\n",
    "def ReLU_deriv(Z):\n",
    "    return Z > 0"
   ]
  },
  {
   "cell_type": "code",
   "execution_count": 376,
   "metadata": {},
   "outputs": [],
   "source": [
    "#forward\n",
    "Z1 = np.dot(X, W1.T) + b1\n",
    "A1 = np.maximum(Z1, 0)\n",
    "Z2 = np.dot(A1, W2.T) + b2\n",
    "A2 = softmax(Z2)"
   ]
  },
  {
   "cell_type": "code",
   "execution_count": 389,
   "metadata": {},
   "outputs": [],
   "source": [
    "#backward\n",
    "dZ2 = A2 - Y\n",
    "dW2 = 1 / m * dZ2.T.dot(A1.T)\n",
    "db2 = 1 / m * np.sum(dZ2)\n",
    "dZ1 = W2.T.dot(dZ2.T) * ReLU_deriv(Z1)\n",
    "dW1 = 1 / m * dZ1.dot(X)\n",
    "db1 = 1 / m * np.sum(dZ1)"
   ]
  },
  {
   "cell_type": "code",
   "execution_count": 392,
   "metadata": {},
   "outputs": [
    {
     "ename": "NameError",
     "evalue": "name 'iterations' is not defined",
     "output_type": "error",
     "traceback": [
      "\u001b[0;31m---------------------------------------------------------------------------\u001b[0m",
      "\u001b[0;31mNameError\u001b[0m                                 Traceback (most recent call last)",
      "Cell \u001b[0;32mIn[392], line 2\u001b[0m\n\u001b[1;32m      1\u001b[0m W1, b1, W2, b2 \u001b[39m=\u001b[39m init_params()\n\u001b[0;32m----> 2\u001b[0m \u001b[39mfor\u001b[39;00m i \u001b[39min\u001b[39;00m \u001b[39mrange\u001b[39m(iterations):\n\u001b[1;32m      3\u001b[0m     Z1, A1, Z2, A2 \u001b[39m=\u001b[39m forward_prop(W1, b1, W2, b2, X)\n\u001b[1;32m      4\u001b[0m     dW1, db1, dW2, db2 \u001b[39m=\u001b[39m backward_prop(Z1, A1, Z2, A2, W1, W2, X, Y)\n",
      "\u001b[0;31mNameError\u001b[0m: name 'iterations' is not defined"
     ]
    }
   ],
   "source": [
    "W1, b1, W2, b2 = init_params()\n",
    "for i in range(iterations):\n",
    "    Z1, A1, Z2, A2 = forward_prop(W1, b1, W2, b2, X)\n",
    "    dW1, db1, dW2, db2 = backward_prop(Z1, A1, Z2, A2, W1, W2, X, Y)\n",
    "    W1, b1, W2, b2 = update_params(W1, b1, W2, b2, dW1, db1, dW2, db2, alpha)\n",
    "    if i % 10 == 0:\n",
    "        print(\"Iteration: \", i)\n",
    "        predictions = get_predictions(A2)\n",
    "        print(get_accuracy(predictions, Y))"
   ]
  },
  {
   "cell_type": "code",
   "execution_count": 390,
   "metadata": {},
   "outputs": [],
   "source": [
    "def get_predictions(A2):\n",
    "    return np.argmax(A2, 0)\n",
    "\n",
    "def get_accuracy(predictions, Y):\n",
    "    print(predictions, Y)\n",
    "    return np.sum(predictions == Y) / Y.size"
   ]
  },
  {
   "cell_type": "code",
   "execution_count": 391,
   "metadata": {},
   "outputs": [
    {
     "ename": "ValueError",
     "evalue": "shapes (10000,784) and (10000,784) not aligned: 784 (dim 1) != 10000 (dim 0)",
     "output_type": "error",
     "traceback": [
      "\u001b[0;31m---------------------------------------------------------------------------\u001b[0m",
      "\u001b[0;31mValueError\u001b[0m                                Traceback (most recent call last)",
      "Cell \u001b[0;32mIn[391], line 1\u001b[0m\n\u001b[0;32m----> 1\u001b[0m W1, b1, W2, b2 \u001b[39m=\u001b[39m gradient_descent(X, Y, \u001b[39m0.10\u001b[39;49m, \u001b[39m500\u001b[39;49m)\n",
      "Cell \u001b[0;32mIn[390], line 11\u001b[0m, in \u001b[0;36mgradient_descent\u001b[0;34m(X, Y, alpha, iterations)\u001b[0m\n\u001b[1;32m      9\u001b[0m W1, b1, W2, b2 \u001b[39m=\u001b[39m init_params()\n\u001b[1;32m     10\u001b[0m \u001b[39mfor\u001b[39;00m i \u001b[39min\u001b[39;00m \u001b[39mrange\u001b[39m(iterations):\n\u001b[0;32m---> 11\u001b[0m     Z1, A1, Z2, A2 \u001b[39m=\u001b[39m forward_prop(W1, b1, W2, b2, X)\n\u001b[1;32m     12\u001b[0m     dW1, db1, dW2, db2 \u001b[39m=\u001b[39m backward_prop(Z1, A1, Z2, A2, W1, W2, X, Y)\n\u001b[1;32m     13\u001b[0m     W1, b1, W2, b2 \u001b[39m=\u001b[39m update_params(W1, b1, W2, b2, dW1, db1, dW2, db2, alpha)\n",
      "Cell \u001b[0;32mIn[309], line 20\u001b[0m, in \u001b[0;36mforward_prop\u001b[0;34m(W1, b1, W2, b2, X)\u001b[0m\n\u001b[1;32m     19\u001b[0m \u001b[39mdef\u001b[39;00m \u001b[39mforward_prop\u001b[39m(W1, b1, W2, b2, X):\n\u001b[0;32m---> 20\u001b[0m     Z1 \u001b[39m=\u001b[39m W1\u001b[39m.\u001b[39;49mdot(X) \u001b[39m+\u001b[39m b1\n\u001b[1;32m     21\u001b[0m     A1 \u001b[39m=\u001b[39m ReLU(Z1)\n\u001b[1;32m     22\u001b[0m     Z2 \u001b[39m=\u001b[39m W2\u001b[39m.\u001b[39mdot(A1) \u001b[39m+\u001b[39m b2\n",
      "\u001b[0;31mValueError\u001b[0m: shapes (10000,784) and (10000,784) not aligned: 784 (dim 1) != 10000 (dim 0)"
     ]
    }
   ],
   "source": [
    "W1, b1, W2, b2 = gradient_descent(X, Y, 0.10, 500)"
   ]
  },
  {
   "cell_type": "code",
   "execution_count": null,
   "metadata": {},
   "outputs": [
    {
     "name": "stdout",
     "output_type": "stream",
     "text": [
      "Test Accuracy: 0.089\n"
     ]
    }
   ],
   "source": [
    "# Test on last 1000 images\n",
    "correct = 0\n",
    "for n in range(X.shape[0] - 1000, X.shape[0]):\n",
    "    x = torch.matmul(X[n], W) + b\n",
    "    if torch.argmax(x) == torch.argmax(Y[n]):\n",
    "        correct += 1\n",
    "\n",
    "test_accuracy = correct / 1000\n",
    "print(\"Test Accuracy:\", test_accuracy)"
   ]
  },
  {
   "cell_type": "code",
   "execution_count": null,
   "metadata": {},
   "outputs": [
    {
     "data": {
      "image/png": "[encoded data removed]",
      "text/plain": [
       "<Figure size 640x480 with 1 Axes>"
      ]
     },
     "metadata": {},
     "output_type": "display_data"
    },
    {
     "name": "stdout",
     "output_type": "stream",
     "text": [
      "Label: tensor(4)\n",
      "Output: tensor(4)\n"
     ]
    }
   ],
   "source": [
    "#plot a random image, and the corresponding label\n",
    "import matplotlib.pyplot as plt\n",
    "import random\n",
    "\n",
    "n = random.randint(0, X.shape[0])\n",
    "plt.imshow(X[n].view(28, 28), cmap='gray')\n",
    "plt.show()\n",
    "print(\"Label:\", torch.argmax(Y[n]))\n",
    "\n",
    "#forward and print the output\n",
    "x = torch.matmul(X[n], W) + b\n",
    "print(\"Output:\", torch.argmax(x))"
   ]
  },
  {
   "cell_type": "code",
   "execution_count": 731,
   "metadata": {},
   "outputs": [
    {
     "name": "stdout",
     "output_type": "stream",
     "text": [
      "Iteration:  0\n",
      "Loss:  tensor(2.3037)\n",
      "Iteration:  100\n",
      "Loss:  tensor(2.3016)\n",
      "Iteration:  200\n",
      "Loss:  tensor(2.2970)\n",
      "Iteration:  300\n",
      "Loss:  tensor(2.3008)\n",
      "Iteration:  400\n",
      "Loss:  tensor(2.3029)\n",
      "Iteration:  500\n",
      "Loss:  tensor(2.2987)\n",
      "Iteration:  600\n",
      "Loss:  tensor(2.2975)\n",
      "Iteration:  700\n",
      "Loss:  tensor(2.2872)\n",
      "Iteration:  800\n",
      "Loss:  tensor(2.2373)\n",
      "Iteration:  900\n",
      "Loss:  tensor(2.1938)\n",
      "Iteration:  1000\n",
      "Loss:  tensor(2.2429)\n",
      "Iteration:  1100\n",
      "Loss:  tensor(2.1715)\n",
      "Iteration:  1200\n",
      "Loss:  tensor(2.0426)\n",
      "Iteration:  1300\n",
      "Loss:  tensor(2.1257)\n",
      "Iteration:  1400\n",
      "Loss:  tensor(2.0932)\n",
      "Iteration:  1500\n",
      "Loss:  tensor(1.9631)\n",
      "Iteration:  1600\n",
      "Loss:  tensor(1.9556)\n",
      "Iteration:  1700\n",
      "Loss:  tensor(1.8250)\n",
      "Iteration:  1800\n",
      "Loss:  tensor(1.8675)\n",
      "Iteration:  1900\n",
      "Loss:  tensor(1.8950)\n",
      "Iteration:  2000\n",
      "Loss:  tensor(1.7485)\n",
      "Iteration:  2100\n",
      "Loss:  tensor(1.8389)\n",
      "Iteration:  2200\n",
      "Loss:  tensor(1.9910)\n",
      "Iteration:  2300\n",
      "Loss:  tensor(1.8537)\n",
      "Iteration:  2400\n",
      "Loss:  tensor(1.8349)\n",
      "Iteration:  2500\n",
      "Loss:  tensor(1.8233)\n",
      "Iteration:  2600\n",
      "Loss:  tensor(1.7256)\n",
      "Iteration:  2700\n",
      "Loss:  tensor(1.9618)\n",
      "Iteration:  2800\n",
      "Loss:  tensor(1.7805)\n",
      "Iteration:  2900\n",
      "Loss:  tensor(1.7867)\n",
      "Iteration:  3000\n",
      "Loss:  tensor(1.7151)\n",
      "Iteration:  3100\n",
      "Loss:  tensor(1.7853)\n",
      "Iteration:  3200\n",
      "Loss:  tensor(1.7128)\n",
      "Iteration:  3300\n",
      "Loss:  tensor(1.8354)\n",
      "Iteration:  3400\n",
      "Loss:  tensor(1.7387)\n",
      "Iteration:  3500\n",
      "Loss:  tensor(1.7616)\n",
      "Iteration:  3600\n",
      "Loss:  tensor(1.6700)\n",
      "Iteration:  3700\n",
      "Loss:  tensor(1.7379)\n",
      "Iteration:  3800\n",
      "Loss:  tensor(1.7742)\n",
      "Iteration:  3900\n",
      "Loss:  tensor(1.6930)\n"
     ]
    }
   ],
   "source": [
    "#initialize\n",
    "def relu(x):\n",
    "    return torch.max(torch.zeros(x.size()), x)\n",
    "\n",
    "def softmax(x):\n",
    "    return torch.exp(x) / torch.sum(torch.exp(x))\n",
    "\n",
    "Weights1 = torch.randn(784, 10) * 0.0001\n",
    "Bias1 = torch.randn(1, 10) * 0.01\n",
    "Weights2 = torch.randn(10, 10) * 0.0001\n",
    "Bias2 = torch.randn(1, 10) * 0.01\n",
    "X_train = torch.from_numpy(X)\n",
    "Y_train = torch.from_numpy(Y)\n",
    "\n",
    "mini_batch_size = 10\n",
    "\n",
    "for i in range(4000):\n",
    "    #get a random mini-batch\n",
    "    random_indices = torch.randperm(X_train.shape[0])\n",
    "    random_indices = random_indices[:mini_batch_size]\n",
    "    X_train_mini_batch = X_train[random_indices]\n",
    "    Y_train_mini_batch = Y_train[random_indices]\n",
    "\n",
    "    #forward\n",
    "    forwardFirstLayer = torch.matmul(X_train_mini_batch, Weights1) + Bias1\n",
    "    forwardFirstLayer = relu(forwardFirstLayer)\n",
    "    forwardSecondLayer = torch.matmul(forwardFirstLayer, Weights2) + Bias2\n",
    "    forwardSecondLayer = relu(forwardSecondLayer)\n",
    "\n",
    "    #calculate the -logloss\n",
    "    log_probs = torch.log_softmax(forwardSecondLayer, dim=1)\n",
    "    logloss = -torch.sum(log_probs * Y_train_mini_batch) / X_train_mini_batch.shape[0]\n",
    "\n",
    "    #backward\n",
    "    def relu_deriv(x):\n",
    "        return torch.where(x > 0, torch.ones_like(x), torch.zeros_like(x))\n",
    "\n",
    "    def softmax_deriv(x):\n",
    "        exp_x = torch.exp(x)\n",
    "        return exp_x / torch.sum(exp_x, dim=1, keepdim=True) * (1 - exp_x / torch.sum(exp_x, dim=1, keepdim=True))\n",
    "\n",
    "    #calculate the gradients\n",
    "    dlogloss = (forwardSecondLayer - Y_train_mini_batch) * softmax_deriv(forwardSecondLayer)\n",
    "    dWeights2 = torch.matmul(forwardFirstLayer.T, dlogloss) / X_train_mini_batch.shape[0]\n",
    "    dBias2 = torch.sum(dlogloss, 0) / X_train_mini_batch.shape[0]\n",
    "    dforwardFirstLayer = torch.matmul(dlogloss, Weights2.T) * relu_deriv(forwardFirstLayer)\n",
    "    dWeights1 = torch.matmul(X_train_mini_batch.T, dforwardFirstLayer) / X_train_mini_batch.shape[0]\n",
    "    dBias1 = torch.sum(dforwardFirstLayer, 0) / X_train_mini_batch.shape[0]\n",
    "\n",
    "    lr = 0.2\n",
    "\n",
    "    #update the weights\n",
    "    Weights1 = Weights1 - lr * dWeights1\n",
    "    Bias1 = Bias1 - lr * dBias1\n",
    "    Weights2 = Weights2 - lr * dWeights2\n",
    "    Bias2 = Bias2 - lr * dBias2\n",
    "\n",
    "    if i % 100 == 0:\n",
    "        print(\"Iteration: \", i)\n",
    "        print(\"Loss: \", logloss)"
   ]
  },
  {
   "cell_type": "code",
   "execution_count": 732,
   "metadata": {},
   "outputs": [
    {
     "name": "stdout",
     "output_type": "stream",
     "text": [
      "Test Accuracy: 89.7\n"
     ]
    }
   ],
   "source": [
    "#test on 1000 last train images\n",
    "correct = 0\n",
    "testImages = torch.from_numpy(X)\n",
    "anserImages = torch.from_numpy(Y)\n",
    "for n in range(X.shape[0] - 1000, X.shape[0]):\n",
    "    forwardFirstLayer = torch.matmul(testImages[n], Weights1) + Bias1\n",
    "    forwardFirstLayer = relu(forwardFirstLayer)\n",
    "    forwardSecondLayer = torch.matmul(forwardFirstLayer, Weights2) + Bias2\n",
    "    if torch.argmax(forwardSecondLayer) == torch.argmax(anserImages[n]):\n",
    "        correct += 1\n",
    "\n",
    "test_accuracy = correct / 10\n",
    "print(\"Test Accuracy:\", test_accuracy)"
   ]
  },
  {
   "cell_type": "code",
   "execution_count": 733,
   "metadata": {},
   "outputs": [
    {
     "name": "stdout",
     "output_type": "stream",
     "text": [
      "Test Accuracy: 88.6\n"
     ]
    }
   ],
   "source": [
    "#test on 1000 test images\n",
    "correct = 0\n",
    "testImages = torch.from_numpy(X_test)\n",
    "anserImages = torch.from_numpy(Y_test)\n",
    "for n in range(0, 1000):\n",
    "    forwardFirstLayer = torch.matmul(testImages[n], Weights1) + Bias1\n",
    "    forwardFirstLayer = relu(forwardFirstLayer)\n",
    "    forwardSecondLayer = torch.matmul(forwardFirstLayer, Weights2) + Bias2\n",
    "    if torch.argmax(forwardSecondLayer) == torch.argmax(anserImages[n]):\n",
    "        correct += 1\n",
    "\n",
    "test_accuracy = correct / 10\n",
    "print(\"Test Accuracy:\", test_accuracy)"
   ]
  }
 ],
 "metadata": {
  "kernelspec": {
   "display_name": "Python 3",
   "language": "python",
   "name": "python3"
  },
  "language_info": {
   "codemirror_mode": {
    "name": "ipython",
    "version": 3
   },
   "file_extension": ".py",
   "mimetype": "text/x-python",
   "name": "python",
   "nbconvert_exporter": "python",
   "pygments_lexer": "ipython3",
   "version": "3.11.4"
  },
  "orig_nbformat": 4
 },
 "nbformat": 4,
 "nbformat_minor": 2
}
