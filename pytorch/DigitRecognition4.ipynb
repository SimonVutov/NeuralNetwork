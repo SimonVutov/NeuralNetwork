{
 "cells": [
  {
   "cell_type": "code",
   "execution_count": 58,
   "metadata": {},
   "outputs": [],
   "source": [
    "import torch\n",
    "import torch.nn.functional as F\n",
    "import numpy as np\n",
    "import matplotlib.pyplot as plt\n",
    "import pandas as pd"
   ]
  },
  {
   "cell_type": "code",
   "execution_count": 59,
   "metadata": {},
   "outputs": [
    {
     "name": "stdout",
     "output_type": "stream",
     "text": [
      "Read data, Number of images in the dataset:  50558\n"
     ]
    }
   ],
   "source": [
    "mnist_data = pd.read_csv(\"mnist_train.csv\").values.tolist()\n",
    "print(\"Read data, Number of images in the dataset: \", len(mnist_data))\n",
    "# Convert mnist_data to a NumPy array\n",
    "mnist_data = np.array(mnist_data)\n",
    "num_samples = len(mnist_data)\n",
    "num_train_samples = num_samples - 1000\n",
    "\n",
    "X_train = mnist_data[:num_train_samples, 1:].astype(np.float32) / 255.0\n",
    "Y_train = np.zeros((num_train_samples, 10), dtype=np.float32)\n",
    "Y_train[np.arange(num_train_samples), mnist_data[:num_train_samples, 0].astype(int)] = 1.0\n",
    "\n",
    "X_test = mnist_data[num_train_samples:, 1:].astype(np.float32) / 255.0\n",
    "Y_test = np.zeros((1000, 10), dtype=np.float32)\n",
    "Y_test[np.arange(1000), mnist_data[num_train_samples:, 0].astype(int)] = 1.0\n",
    "\n",
    "X_train = torch.from_numpy(X_train)\n",
    "Y_train = torch.from_numpy(Y_train)\n",
    "X_test = torch.from_numpy(X_test)\n",
    "Y_test = torch.from_numpy(Y_test)"
   ]
  },
  {
   "cell_type": "code",
   "execution_count": 91,
   "metadata": {},
   "outputs": [
    {
     "ename": "TypeError",
     "evalue": "unsupported operand type(s) for *: 'float' and 'NoneType'",
     "output_type": "error",
     "traceback": [
      "\u001b[0;31m---------------------------------------------------------------------------\u001b[0m",
      "\u001b[0;31mTypeError\u001b[0m                                 Traceback (most recent call last)",
      "Cell \u001b[0;32mIn[91], line 85\u001b[0m\n\u001b[1;32m     81\u001b[0m \u001b[39m#log_probs = torch.log_softmax(net.layers[-1].cached_input, dim=1)\u001b[39;00m\n\u001b[1;32m     82\u001b[0m \u001b[39m#logloss = -torch.sum(log_probs * Y_train_mini_batch) / X_train_mini_batch.shape[0]\u001b[39;00m\n\u001b[1;32m     84\u001b[0m net\u001b[39m.\u001b[39mbackward(Y_train_mini_batch)\n\u001b[0;32m---> 85\u001b[0m net\u001b[39m.\u001b[39;49mupdate_parameters(lr)\n\u001b[1;32m     87\u001b[0m \u001b[39m#listLoss.append(logloss)\u001b[39;00m\n\u001b[1;32m     88\u001b[0m \u001b[39m#if i % 100 == 0: print(\"Iteration: \", i, \"Loss: \", logloss)\u001b[39;00m\n",
      "Cell \u001b[0;32mIn[91], line 62\u001b[0m, in \u001b[0;36mNNetwork.update_parameters\u001b[0;34m(self, lr)\u001b[0m\n\u001b[1;32m     60\u001b[0m \u001b[39mdef\u001b[39;00m \u001b[39mupdate_parameters\u001b[39m(\u001b[39mself\u001b[39m, lr):\n\u001b[1;32m     61\u001b[0m     \u001b[39mfor\u001b[39;00m layer \u001b[39min\u001b[39;00m \u001b[39mself\u001b[39m\u001b[39m.\u001b[39mlayers:\n\u001b[0;32m---> 62\u001b[0m         layer\u001b[39m.\u001b[39;49mupdate_parameters(lr)\n",
      "Cell \u001b[0;32mIn[91], line 31\u001b[0m, in \u001b[0;36mFullyConnectedLayer.update_parameters\u001b[0;34m(self, lr)\u001b[0m\n\u001b[1;32m     30\u001b[0m \u001b[39mdef\u001b[39;00m \u001b[39mupdate_parameters\u001b[39m(\u001b[39mself\u001b[39m, lr):\n\u001b[0;32m---> 31\u001b[0m     \u001b[39mself\u001b[39m\u001b[39m.\u001b[39mweights \u001b[39m-\u001b[39m\u001b[39m=\u001b[39m lr \u001b[39m*\u001b[39;49m \u001b[39mself\u001b[39;49m\u001b[39m.\u001b[39;49mdW\n\u001b[1;32m     32\u001b[0m     \u001b[39mself\u001b[39m\u001b[39m.\u001b[39mbias \u001b[39m-\u001b[39m\u001b[39m=\u001b[39m lr \u001b[39m*\u001b[39m \u001b[39mself\u001b[39m\u001b[39m.\u001b[39mdB\n",
      "\u001b[0;31mTypeError\u001b[0m: unsupported operand type(s) for *: 'float' and 'NoneType'"
     ]
    }
   ],
   "source": [
    "class ReLU:\n",
    "    @staticmethod\n",
    "    def forward(x):\n",
    "        return torch.max(torch.zeros_like(x), x)\n",
    "    \n",
    "    @staticmethod\n",
    "    def backward(doutput, x):\n",
    "        doutput = doutput.clone()\n",
    "        doutput[x < 0] = 0\n",
    "        return doutput\n",
    "\n",
    "class FullyConnectedLayer:\n",
    "    def __init__(self, input_size, output_size):\n",
    "        self.weights = torch.randn((output_size, input_size)) * 0.01\n",
    "        self.bias = torch.randn((1, output_size))\n",
    "        self.cached_input = None\n",
    "        self.dW = None\n",
    "        self.dB = None\n",
    "    \n",
    "    def forward(self, x):\n",
    "        self.cached_input = x\n",
    "        return torch.matmul(x, self.weights.t()) + self.bias\n",
    "    \n",
    "    def backward(self, doutput):\n",
    "        dinput = torch.matmul(doutput, self.weights)\n",
    "        self.dW = torch.mm(doutput.t(), self.cached_input)\n",
    "        self.dB = torch.sum(doutput, dim=0)\n",
    "        return dinput\n",
    "\n",
    "    def update_parameters(self, lr):\n",
    "        self.weights -= lr * self.dW\n",
    "        self.bias -= lr * self.dB\n",
    "\n",
    "class NNetwork:\n",
    "    def __init__(self, layer_sizes):\n",
    "        self.layers = []\n",
    "        for i in range(len(layer_sizes) - 1):\n",
    "            self.layers.append(FullyConnectedLayer(layer_sizes[i], layer_sizes[i + 1]))\n",
    "    \n",
    "    def forward(self, x):\n",
    "        for layer in self.layers[:-1]:\n",
    "            x = layer.forward(x)\n",
    "            x = ReLU.forward(x)\n",
    "            layer.cached_input = x\n",
    "        x = self.layers[-1].forward(x)\n",
    "        return x\n",
    "    \n",
    "    def backward(self, doutput):\n",
    "        dinput = self.layers[-1].backward(doutput)\n",
    "        \n",
    "        dWeights = []\n",
    "        dBias = []\n",
    "        for i in range(len(self.layers) - 1, -1, -1):\n",
    "            dWeights.insert(0, self.layers[i].dW)\n",
    "            dBias.insert(0, self.layers[i].dB)\n",
    "            if i > 0: dinput = 1\n",
    "        \n",
    "        return dinput, dWeights, dBias\n",
    "    \n",
    "    def update_parameters(self, lr):\n",
    "        for layer in self.layers:\n",
    "            layer.update_parameters(lr)\n",
    "\n",
    "layer_sizes = [784, 100, 12, 10]\n",
    "net = NNetwork(layer_sizes)\n",
    "\n",
    "lr = 0.2\n",
    "mini_batch_size = 80\n",
    "iterations = 8000\n",
    "\n",
    "listLoss = []\n",
    "for i in range(iterations):\n",
    "    # Get a random mini-batch\n",
    "    random_indices = torch.randperm(X_train.shape[0])\n",
    "    random_indices = random_indices[:mini_batch_size]\n",
    "    X_train_mini_batch = X_train[random_indices]\n",
    "    Y_train_mini_batch = Y_train[random_indices]\n",
    "\n",
    "    net.forward(X_train_mini_batch)\n",
    "\n",
    "    #log_probs = torch.log_softmax(net.layers[-1].cached_input, dim=1)\n",
    "    #logloss = -torch.sum(log_probs * Y_train_mini_batch) / X_train_mini_batch.shape[0]\n",
    "\n",
    "    net.backward(Y_train_mini_batch)\n",
    "    net.update_parameters(lr)\n",
    "\n",
    "    #listLoss.append(logloss)\n",
    "    #if i % 100 == 0: print(\"Iteration: \", i, \"Loss: \", logloss)"
   ]
  },
  {
   "cell_type": "code",
   "execution_count": 90,
   "metadata": {},
   "outputs": [
    {
     "name": "stdout",
     "output_type": "stream",
     "text": [
      "Test Accuracy: 9.7\n"
     ]
    }
   ],
   "source": [
    "# Test on 1000 test images\n",
    "correct = 0\n",
    "for n in range(0, 1000):\n",
    "    forwardFirstLayer = net.forward(X_test[n])\n",
    "    if torch.argmax(forwardFirstLayer) == torch.argmax(Y_test[n]):\n",
    "        correct += 1\n",
    "print(\"Test Accuracy:\", (correct / 10))"
   ]
  },
  {
   "cell_type": "code",
   "execution_count": 38,
   "metadata": {},
   "outputs": [
    {
     "data": {
      "image/png": "[encoded data removed]",
      "text/plain": [
       "<Figure size 640x480 with 1 Axes>"
      ]
     },
     "metadata": {},
     "output_type": "display_data"
    }
   ],
   "source": [
    "#plot the loss\n",
    "plt.plot(listLoss)\n",
    "plt.xlabel(\"Iteration\")\n",
    "plt.ylabel(\"Loss\")\n",
    "plt.show()"
   ]
  }
 ],
 "metadata": {
  "kernelspec": {
   "display_name": "Python 3",
   "language": "python",
   "name": "python3"
  },
  "language_info": {
   "codemirror_mode": {
    "name": "ipython",
    "version": 3
   },
   "file_extension": ".py",
   "mimetype": "text/x-python",
   "name": "python",
   "nbconvert_exporter": "python",
   "pygments_lexer": "ipython3",
   "version": "3.11.4"
  },
  "orig_nbformat": 4
 },
 "nbformat": 4,
 "nbformat_minor": 2
}
