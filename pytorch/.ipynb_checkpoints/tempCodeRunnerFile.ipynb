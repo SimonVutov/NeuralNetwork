import csv

def read_csv_into_2d_list(file_name):
    data_2d_list = []
    with open(file_name, newline='') as f:
        csvreader = csv.reader(f)
        for row in csvreader:
            data_2d_list.append(row)
    return data_2d_list

mnist_data = read_csv_into_2d_list("mnist_train.csv")